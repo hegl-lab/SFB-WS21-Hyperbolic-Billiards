{
 "cells": [
  {
   "cell_type": "code",
   "execution_count": 1,
   "metadata": {},
   "outputs": [],
   "source": [
    "# initialize poincare disk model\n",
    "P = HyperbolicPlane().PD()\n"
   ]
  },
  {
   "cell_type": "code",
   "execution_count": 2,
   "metadata": {},
   "outputs": [],
   "source": [
    "def pos_to_geodesic(x,phi):\n",
    "    # given initial position and velocity, compute corresponding geodesic\n",
    "    r = (1-abs(x)^2)/(2*(-x.real()*sin(phi) + x.imag()*cos(phi)))\n",
    "    c = x + r * (-sin(phi)+ i *cos(phi))\n",
    "    d0 = (1 - abs(r)^2 + abs(c)^2)/(2 * abs(c))\n",
    "    e0 = sqrt(1-d0^2)\n",
    "    P1 = d0 * c / abs(c) + e0 / abs(c) * (-c.imag() + c.real()*i)\n",
    "    P2 = d0 * c / abs(c) - e0 / abs(c) * (-c.imag() + c.real()*i)\n",
    "    return P.get_geodesic(P1,P2)\n"
   ]
  },
  {
   "cell_type": "code",
   "execution_count": 10,
   "metadata": {
    "scrolled": true
   },
   "outputs": [
    {
     "name": "stdout",
     "output_type": "stream",
     "text": [
      "oi\n",
      "ai\n",
      "iteration 0\n",
      "iteration 1\n",
      "iteration 2\n",
      "iteration 3\n",
      "iteration 4\n",
      "iteration 5\n",
      "iteration 6\n",
      "iteration 7\n",
      "iteration 8\n",
      "iteration 9\n",
      "iteration 10\n",
      "iteration 11\n",
      "iteration 12\n",
      "iteration 13\n",
      "iteration 14\n",
      "iteration 15\n",
      "iteration 16\n",
      "iteration 17\n",
      "iteration 18\n",
      "iteration 19\n",
      "iteration 20\n",
      "iteration 21\n",
      "iteration 22\n",
      "iteration 23\n",
      "iteration 24\n",
      "iteration 25\n",
      "iteration 26\n",
      "iteration 27\n",
      "iteration 28\n",
      "iteration 29\n",
      "iteration 30\n",
      "iteration 31\n",
      "iteration 32\n",
      "iteration 33\n",
      "iteration 34\n",
      "iteration 35\n",
      "iteration 36\n",
      "iteration 37\n",
      "iteration 38\n",
      "iteration 39\n",
      "iteration 40\n",
      "iteration 41\n",
      "iteration 42\n",
      "iteration 43\n",
      "iteration 44\n",
      "iteration 45\n",
      "iteration 46\n",
      "iteration 47\n",
      "iteration 48\n",
      "iteration 49\n"
     ]
    }
   ],
   "source": [
    "# initialize billiard table\n",
    "points = [1,i,-1]\n",
    "\n",
    "sides = []\n",
    "sides.append(P.get_geodesic(points[0],points[1]))\n",
    "sides.append(P.get_geodesic(points[1],points[2]))\n",
    "sides.append(P.get_geodesic(points[2],points[0]))\n",
    "sides\n",
    "# init start position\n",
    "x = 0.2+ 0.12345*i\n",
    "#initial direction\n",
    "phi = pi/2 \n",
    "# Number of simulated hits\n",
    "N = 50\n",
    "\n",
    "\n",
    "g= []\n",
    "g.append(pos_to_geodesic(x,phi))\n",
    "print(\"oi\")\n",
    "g[0] = P.get_geodesic(x,g[0].intersection(sides[0])[0].coordinates())\n",
    "code = [0]\n",
    "print(\"ai\")\n",
    "\n",
    "for ite in range(N):\n",
    "    print(\"iteration\", ite)\n",
    "    # If we do not numerically approximate, we obtain problems, don't know why...\n",
    "    g[ite] = P.get_geodesic(numerical_approx(g[ite].start().coordinates()), numerical_approx(g[ite].end().coordinates()))\n",
    "    # start point for the new segment\n",
    "    start = g[ite].end().coordinates()\n",
    "   \n",
    "    # to find the new segment, we reflect the billiard table along the hitting side, find the next hit and reflect\n",
    "    # the found trajectory back\n",
    "    \n",
    "    #extend the trajectory\n",
    "    #print(numerical_approx(g[ite].start().coordinates()))\n",
    "    g_comp = g[ite].complete()\n",
    "    #reflect the sides\n",
    "    refl_sides = [None] * 3\n",
    "    isometry = sides[code[ite]].reflection_involution()\n",
    "    for j in range(3):\n",
    "        if j != code[ite]:\n",
    "            refl_sides[j] = isometry * sides[j]\n",
    "            if not g_comp.is_parallel(refl_sides[j]):\n",
    "                # find endpoint of new segment\n",
    "                end = g_comp.intersection(refl_sides[j])[0].coordinates()\n",
    "                # build new geodesic\n",
    "                g_tmp = P.get_geodesic(start, end)\n",
    "                # re-unfold geodsic\n",
    "                g.append(isometry * g_tmp)\n",
    "                code.append(j)\n",
    "                \n",
    "    '''# find direction\n",
    "    print(\"angle with side\", g[ite].angle(sides[code[ite]]))\n",
    "    print(\"angle with x-axis\", pos_to_geodesic(x,0).angle(sides[code[ite]]))\n",
    "    \n",
    "    phi = pi - g[ite].angle(sides[code[ite]]) + pi - pos_to_geodesic(x,0).angle(sides[code[ite]])\n",
    "    g_temp = pos_to_geodesic(x,phi)\n",
    "    for j in range(3):\n",
    "        if not g_temp.is_parallel(sides[j]):\n",
    "            if(abs(g_temp.intersection(sides[j])[0].coordinates()-x) > 0.000001):\n",
    "                code.append(j)\n",
    "                g.append(P.get_geodesic(x,g_temp.intersection(sides[j])[0].coordinates()))'''"
   ]
  },
  {
   "cell_type": "code",
   "execution_count": 11,
   "metadata": {},
   "outputs": [],
   "source": [
    "# save the images to png files for Poincare Disk model\n",
    "pl = sides[0].plot(color=\"blue\") + sides[1].plot(color=\"blue\") + sides[2].plot(color=\"blue\")\n",
    "for j in range(N):\n",
    "    pl = pl + g[j].plot(color=\"red\")\n",
    "    save(pl, \"PD\"+ str(j) +\".png\")\n"
   ]
  },
  {
   "cell_type": "code",
   "execution_count": 5,
   "metadata": {},
   "outputs": [],
   "source": [
    "UHP = HyperbolicPlane().UHP()"
   ]
  },
  {
   "cell_type": "code",
   "execution_count": 12,
   "metadata": {},
   "outputs": [],
   "source": [
    "# save the images to png files for half plane model\n",
    "pl_UHP = sides[0].to_model(UHP).plot(color=\"blue\") + sides[1].to_model(UHP).plot(color=\"blue\") + sides[2].to_model(UHP).plot(color=\"blue\")\n",
    "for j in range(N):\n",
    "    pl_UHP = pl_UHP + g[j].to_model(UHP).plot(color=\"red\")\n",
    "    save(pl_UHP, \"UHP\"+ str(j) +\".png\")"
   ]
  }
 ],
 "metadata": {
  "kernelspec": {
   "display_name": "SageMath 9.0",
   "language": "sage",
   "name": "sagemath"
  },
  "language_info": {
   "codemirror_mode": {
    "name": "ipython",
    "version": 3
   },
   "file_extension": ".py",
   "mimetype": "text/x-python",
   "name": "python",
   "nbconvert_exporter": "python",
   "pygments_lexer": "ipython3",
   "version": "3.8.5"
  }
 },
 "nbformat": 4,
 "nbformat_minor": 4
}
