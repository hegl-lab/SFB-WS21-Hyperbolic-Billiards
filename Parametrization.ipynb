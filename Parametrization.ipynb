{
 "cells": [
  {
   "cell_type": "code",
   "execution_count": 2,
   "metadata": {},
   "outputs": [],
   "source": [
    "P = HyperbolicPlane().PD()"
   ]
  },
  {
   "cell_type": "code",
   "execution_count": 3,
   "metadata": {},
   "outputs": [],
   "source": [
    "# Cayley transform\n",
    "def xi(z):\n",
    "    return (i * z + 1) / (- z - i)"
   ]
  },
  {
   "cell_type": "code",
   "execution_count": 5,
   "metadata": {},
   "outputs": [],
   "source": [
    "# Möbiustranform, mapping line of D to line in H and then to imaginary axis in H\n",
    "def m(a,b,z):\n",
    "    # remember, an element of Möb(H) with real coefficient must have positive determinant, hence the distinction\n",
    "    ma = max(xi(a).real(), xi(b).real())\n",
    "    mi = min(xi(a).real(), xi(b).real())\n",
    "    return (xi(z) - ma)/(xi(z) - mi)"
   ]
  },
  {
   "cell_type": "code",
   "execution_count": 6,
   "metadata": {},
   "outputs": [],
   "source": [
    "# the geodesic in the half plane model\n",
    "def gamma_H(s,e,t):\n",
    "    # depending on whether the starting point s is below or above the ending point s, we move upwards or downwards,\n",
    "    # respectively\n",
    "    if m(a,b,s).imag() < m(a,b,e).imag():\n",
    "        return m(a,b,s) * exp(t)\n",
    "    else:\n",
    "        return m(a,b,s) * exp(-t)"
   ]
  },
  {
   "cell_type": "code",
   "execution_count": 8,
   "metadata": {},
   "outputs": [],
   "source": [
    "def m_inv(a,b,z):\n",
    "    # remember, an element of Möb(H) with real coefficient must have positive determinant, hence the distinction\n",
    "    ma = max(xi(a).real(), xi(b).real())\n",
    "    mi = min(xi(a).real(), xi(b).real())\n",
    "\n",
    "    return ((1 + i * mi) * z - 1 - i * ma) / ((-i - mi) * z + i + ma)"
   ]
  },
  {
   "cell_type": "code",
   "execution_count": 9,
   "metadata": {},
   "outputs": [],
   "source": [
    "def gamma_D(s,e,a,b,t):\n",
    "    return m_inv(a,b, gamma_H(s,e,t))"
   ]
  },
  {
   "cell_type": "code",
   "execution_count": 11,
   "metadata": {
    "scrolled": true
   },
   "outputs": [
    {
     "name": "stdout",
     "output_type": "stream",
     "text": [
      "-0.863852936659678 - 0.503744085647118*I\n",
      "0.999999999999991 + 1.35270384837849e-7*I\n"
     ]
    }
   ],
   "source": [
    "# initialize start and endpoint\n",
    "s = -0.2-0.2 * i\n",
    "e = 0.999\n",
    "# find ideal points of geodesic\n",
    "a = P.get_geodesic(s,e).complete().start().coordinates()\n",
    "b = P.get_geodesic(s,e).complete().end().coordinates()\n",
    "# initialize time step\n",
    "delta_t = 0.05\n",
    "# initialize time \n",
    "t=0\n",
    "# initialize time until hit\n",
    "t_hit = abs(ln(m(a,b,s) / m(a,b,e)))\n",
    "\n",
    "# save the images of the ball follwing the trajectory\n",
    "pl = P.get_geodesic(s,e).plot(color = \"blue\")\n",
    "for j in range(floor(t_hit / delta_t)):\n",
    "    pl_temp = pl + P.get_point(gamma_D(s,e,a,b,t)).show(color=\"red\")\n",
    "    t = t + delta_t\n",
    "    save(pl_temp, \"parametrization\"+ str(j) +\".png\")"
   ]
  },
  {
   "cell_type": "code",
   "execution_count": null,
   "metadata": {},
   "outputs": [],
   "source": []
  }
 ],
 "metadata": {
  "kernelspec": {
   "display_name": "SageMath 9.0",
   "language": "sage",
   "name": "sagemath"
  },
  "language_info": {
   "codemirror_mode": {
    "name": "ipython",
    "version": 3
   },
   "file_extension": ".py",
   "mimetype": "text/x-python",
   "name": "python",
   "nbconvert_exporter": "python",
   "pygments_lexer": "ipython3",
   "version": "3.8.5"
  }
 },
 "nbformat": 4,
 "nbformat_minor": 4
}
