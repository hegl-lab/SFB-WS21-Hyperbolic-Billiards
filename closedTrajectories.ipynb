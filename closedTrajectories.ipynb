{
 "cells": [
  {
   "cell_type": "code",
   "execution_count": 1,
   "metadata": {},
   "outputs": [],
   "source": [
    "P = HyperbolicPlane().PD()"
   ]
  },
  {
   "cell_type": "code",
   "execution_count": 2,
   "metadata": {},
   "outputs": [],
   "source": [
    "# transform\n",
    "def xi(z):\n",
    "    return (i * z + 1) / (- z - i)"
   ]
  },
  {
   "cell_type": "code",
   "execution_count": 3,
   "metadata": {},
   "outputs": [],
   "source": [
    "def xi_inv(z):\n",
    "    return (-i * z - 1) / ( z + i)"
   ]
  },
  {
   "cell_type": "code",
   "execution_count": 167,
   "metadata": {},
   "outputs": [],
   "source": [
    "eta = [-1,-0.5,0.25, 0.5, 0.75, 1]\n",
    "code = [0,2,1,3,2,4,3,5,4,6,5,1]"
   ]
  },
  {
   "cell_type": "code",
   "execution_count": 168,
   "metadata": {},
   "outputs": [],
   "source": [
    "# build reflections\n",
    "r = []\n",
    "for l in range(1,len(eta)):\n",
    "    r.append(1/(eta[l]-eta[l-1]) * Matrix([[eta[l-1]+eta[l], - 2 * eta[l-1] * eta[l]], [2, -(eta[l-1]+eta[l])]]))\n",
    "    #print(det(r[l]))\n",
    "r.append(Matrix([[-1, 2], [0,1]]))\n",
    "r.append(Matrix([[-1, -2],[0, 1]]))"
   ]
  },
  {
   "cell_type": "code",
   "execution_count": 169,
   "metadata": {},
   "outputs": [],
   "source": [
    "# build T\n",
    "T = matrix.identity(2)\n",
    "for l in range(len(code)):\n",
    "    T = T * r[code[l]]\n",
    "# find ideal endpoints\n",
    "diskr = sqrt((T[1,1]-T[0,0])^2 + 4 * T[0,1] * T[1, 0])\n",
    "x_1 = ((T[0,0]-T[1,1]) + diskr ) / (2 * T[1,0])\n",
    "x_2 = ((T[0,0]-T[1,1]) - diskr ) / (2 * T[1,0])\n",
    "# the ideal endpoints\n",
    "z_1 = xi_inv(x_1)\n",
    "z_2 = xi_inv(x_2)"
   ]
  },
  {
   "cell_type": "code",
   "execution_count": 170,
   "metadata": {},
   "outputs": [],
   "source": [
    "def refl(r,z):\n",
    "    if z!= -i:\n",
    "        return xi_inv((r[0,0] * conjugate(xi(z)) +r[0,1]) / (r[1,0] * conjugate(xi(z)) +r[1,1]))\n",
    "    else:\n",
    "        if r[1,0] != 0:\n",
    "            return xi_inv(r[0,0]/r[1,0])\n",
    "        else:\n",
    "            return -i"
   ]
  },
  {
   "cell_type": "code",
   "execution_count": 187,
   "metadata": {},
   "outputs": [],
   "source": [
    "def getLength(code):\n",
    "    T = matrix.identity(2)\n",
    "    for l in range(len(code)):\n",
    "        T = T * r[code[l]]\n",
    "    return arccosh(0.5 * (T[0,0]+T[1,1])^2 + (-1)^(len(code)))"
   ]
  },
  {
   "cell_type": "code",
   "execution_count": 175,
   "metadata": {},
   "outputs": [
    {
     "name": "stdout",
     "output_type": "stream",
     "text": [
      "[1, 0.800000000000000 + 0.600000000000000*I, -0.470588235294118 + 0.882352941176471*I, -0.800000000000000 + 0.600000000000000*I, -0.960000000000000 + 0.280000000000000*I, -1, -I]\n",
      "iteration 0\n",
      "j  5\n",
      "iteration 1\n",
      "j  6\n",
      "iteration 2\n",
      "j  4\n",
      "iteration 3\n",
      "j  5\n",
      "iteration 4\n",
      "j  3\n",
      "iteration 5\n",
      "j  4\n",
      "iteration 6\n",
      "j  2\n",
      "iteration 7\n",
      "j  3\n",
      "iteration 8\n",
      "j  1\n",
      "iteration 9\n",
      "j  2\n",
      "iteration 10\n",
      "j  0\n"
     ]
    }
   ],
   "source": [
    "# initialize billiard table\n",
    "#build points\n",
    "points = []\n",
    "for j in range(len(eta)):\n",
    "    points.append(xi_inv(eta[j]))\n",
    "points.append(-i)\n",
    "print(points)\n",
    "k = len(points)\n",
    "# build sides\n",
    "sides = []\n",
    "for j in range(k):\n",
    "    sides.append(P.get_geodesic(points[j],points[(j+1)% k]))\n",
    "g_tmp = P.get_geodesic(z_1,z_2)\n",
    "\n",
    "#find first segment\n",
    "ends =[]\n",
    "j_tmp = []\n",
    "for j in range(k):\n",
    "    if not g_tmp.is_parallel(sides[j]):\n",
    "        # find endpoint of new segment\n",
    "        ends.append(g_tmp.intersection(sides[j])[0].coordinates())\n",
    "        j_tmp.append(j)\n",
    "g = []\n",
    "g.append(P.get_geodesic(ends[0],ends[1]))\n",
    "cod = []\n",
    "if abs(g[0].end().coordinates()-ends[0]) < 10^(-6):\n",
    "    cod.append(j_tmp[0])\n",
    "else:\n",
    "    cod.append(j_tmp[1])\n",
    "\n",
    "for ite in range(len(code)-1):\n",
    "    print(\"iteration\", ite)\n",
    "    #print(\"g size\", g)\n",
    "    # If we do not numerically approximate, we obtain problems, don't know why...\n",
    "    g[ite] = P.get_geodesic(numerical_approx(g[ite].start().coordinates()), numerical_approx(g[ite].end().coordinates()))\n",
    "    start = numerical_approx(sides[cod[ite]].intersection(g[ite].complete())[0].coordinates())\n",
    "    #print(\"start \", start )\n",
    "    #print(\"cod\", cod[ite])\n",
    "    \n",
    "    # to find the new segment, we reflect the billiard table along the hitting side, find the next hit and reflect\n",
    "    # the found trajectory back\n",
    "    \n",
    "    #extend the trajectory\n",
    "    #print(numerical_approx(g[ite].start().coordinates()))\n",
    "    g_comp = g[ite].complete()\n",
    "    #reflect the sides\n",
    "    refl_sides = [None] * k\n",
    "    #isometry = sides[cod[ite]].reflection_involution()\n",
    "    isometry = r[cod[ite]]\n",
    "    for j in range(k):\n",
    "        if j != cod[ite]:\n",
    "            #refl_sides[j] = isometry * sides[j]\n",
    "            refl_sides[j] = P.get_geodesic(refl(isometry,sides[j].start().coordinates()),refl(isometry,sides[j].end().coordinates()))\n",
    "            if not g_comp.is_parallel(refl_sides[j]):\n",
    "                print(\"j \", j )\n",
    "                # find endpoint of new segment\n",
    "                end = g_comp.intersection(refl_sides[j])[0].coordinates()\n",
    "                # build new geodesic\n",
    "                #g_tmp = P.get_geodesic(start, end)\n",
    "                # re-unfold geodsic\n",
    "                #g.append(isometry * g_tmp)\n",
    "                g.append(P.get_geodesic(refl(isometry,start), refl(isometry,end)))\n",
    "                cod.append(j)"
   ]
  },
  {
   "cell_type": "code",
   "execution_count": 195,
   "metadata": {},
   "outputs": [
    {
     "data": {
      "image/png": "[encoded data removed]",
      "text/plain": [
       "Graphics object consisting of 38 graphics primitives"
      ]
     },
     "metadata": {},
     "output_type": "display_data"
    }
   ],
   "source": [
    "#print(refl_sides)\n",
    "pl = sides[0].plot(color=\"blue\") \n",
    "for j in range(1,k):\n",
    "    pl = pl + sides[j].plot(color=\"blue\") \n",
    "for j in range(len(cod)):\n",
    "    pl = pl + g[j].plot(color=\"red\")\n",
    "#for j in range(4):\n",
    "#    if  refl_sides[j]!= None:\n",
    "#        pl = pl + refl_sides[j].plot(color = \"green\")\n",
    "show(pl)"
   ]
  },
  {
   "cell_type": "code",
   "execution_count": 188,
   "metadata": {},
   "outputs": [
    {
     "name": "stdout",
     "output_type": "stream",
     "text": [
      "21.5316013783975\n"
     ]
    }
   ],
   "source": [
    "print(getLength(code))"
   ]
  },
  {
   "cell_type": "code",
   "execution_count": 189,
   "metadata": {},
   "outputs": [],
   "source": [
    "# Möbiustranform, mapping line of D to line in H and then to imaginary axis in H\n",
    "def m(a,b,z):\n",
    "    # remember, an element of Möb(H) with real coefficient must have positive determinant, hence the distinction\n",
    "    ma = max(xi(a).real(), xi(b).real())\n",
    "    mi = min(xi(a).real(), xi(b).real())\n",
    "    return (xi(z) - ma)/(xi(z) - mi)"
   ]
  },
  {
   "cell_type": "code",
   "execution_count": 190,
   "metadata": {},
   "outputs": [],
   "source": [
    "# the geodesic in the half plane model\n",
    "def gamma_H(s,e,t):\n",
    "    # depending on whether the starting point s is below or above the ending point s, we move upwards or downwards,\n",
    "    # respectively\n",
    "    if m(a,b,s).imag() < m(a,b,e).imag():\n",
    "        return m(a,b,s) * exp(t)\n",
    "    else:\n",
    "        return m(a,b,s) * exp(-t)"
   ]
  },
  {
   "cell_type": "code",
   "execution_count": 191,
   "metadata": {},
   "outputs": [],
   "source": [
    "def m_inv(a,b,z):\n",
    "    # remember, an element of Möb(H) with real coefficient must have positive determinant, hence the distinction\n",
    "    ma = max(xi(a).real(), xi(b).real())\n",
    "    mi = min(xi(a).real(), xi(b).real())\n",
    "\n",
    "    return ((1 + i * mi) * z - 1 - i * ma) / ((-i - mi) * z + i + ma)"
   ]
  },
  {
   "cell_type": "code",
   "execution_count": 192,
   "metadata": {},
   "outputs": [],
   "source": [
    "def gamma_D(s,e,a,b,t):\n",
    "    return m_inv(a,b, gamma_H(s,e,t))"
   ]
  },
  {
   "cell_type": "code",
   "execution_count": 197,
   "metadata": {},
   "outputs": [],
   "source": [
    "cnt=0\n",
    "for ite in range(len(cod)):\n",
    "    s = g[ite].start().coordinates()\n",
    "    e = g[ite].end().coordinates()\n",
    "    # find ideal points of geodesic\n",
    "    a = g[ite].complete().start().coordinates()\n",
    "    b = g[ite].complete().end().coordinates()\n",
    "    # initialize time step\n",
    "    delta_t = 0.05\n",
    "    # initialize time \n",
    "    t=0\n",
    "    # initialize time until hit\n",
    "    t_hit = abs(ln(m(a,b,s) / m(a,b,e)))\n",
    "\n",
    "    # save the images of the ball follwing the trajectory\n",
    "    for j in range(floor(t_hit / delta_t)):\n",
    "        pl_temp = pl + P.get_point(gamma_D(s,e,a,b,t)).show(color=\"green\")\n",
    "        t = t + delta_t\n",
    "        save(pl_temp, \"parametrization\"+ str(cnt) +\".png\")\n",
    "        cnt = cnt +1"
   ]
  },
  {
   "cell_type": "code",
   "execution_count": null,
   "metadata": {},
   "outputs": [],
   "source": []
  }
 ],
 "metadata": {
  "kernelspec": {
   "display_name": "SageMath 9.0",
   "language": "sage",
   "name": "sagemath"
  },
  "language_info": {
   "codemirror_mode": {
    "name": "ipython",
    "version": 3
   },
   "file_extension": ".py",
   "mimetype": "text/x-python",
   "name": "python",
   "nbconvert_exporter": "python",
   "pygments_lexer": "ipython3",
   "version": "3.8.5"
  }
 },
 "nbformat": 4,
 "nbformat_minor": 4
}
