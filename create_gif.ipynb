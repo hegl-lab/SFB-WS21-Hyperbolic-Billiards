{
 "cells": [
  {
   "cell_type": "code",
   "execution_count": 1,
   "id": "96e309ed",
   "metadata": {},
   "outputs": [],
   "source": [
    "import matplotlib.pyplot as plt \n",
    "import matplotlib.image as mgimg\n",
    "from matplotlib import animation\n",
    "import imageio"
   ]
  },
  {
   "cell_type": "code",
   "execution_count": 2,
   "id": "b8a5b356",
   "metadata": {},
   "outputs": [],
   "source": [
    "N=20"
   ]
  },
  {
   "cell_type": "code",
   "execution_count": 4,
   "id": "34f896e0",
   "metadata": {},
   "outputs": [],
   "source": [
    "images = []\n",
    "for i in range(N):\n",
    "    images.append(imageio.imread(\"PD\"+str(i)+\".png\"))\n",
    "imageio.mimsave('PD.gif', images, duration=0.5)"
   ]
  },
  {
   "cell_type": "code",
   "execution_count": 5,
   "id": "ad1f1abd",
   "metadata": {},
   "outputs": [],
   "source": [
    "images = []\n",
    "for i in range(N):\n",
    "    images.append(imageio.imread(\"UHP\"+str(i)+\".png\"))\n",
    "imageio.mimsave('UHP.gif', images, duration=0.5)"
   ]
  },
  {
   "cell_type": "code",
   "execution_count": null,
   "id": "9d670bea-077a-4184-837c-a1cd2dd08366",
   "metadata": {},
   "outputs": [],
   "source": []
  }
 ],
 "metadata": {
  "kernelspec": {
   "display_name": "Python 3 (ipykernel)",
   "language": "python",
   "name": "python3"
  },
  "language_info": {
   "codemirror_mode": {
    "name": "ipython",
    "version": 3
   },
   "file_extension": ".py",
   "mimetype": "text/x-python",
   "name": "python",
   "nbconvert_exporter": "python",
   "pygments_lexer": "ipython3",
   "version": "3.9.5"
  }
 },
 "nbformat": 4,
 "nbformat_minor": 5
}
